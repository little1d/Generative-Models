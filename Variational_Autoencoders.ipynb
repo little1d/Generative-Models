{
 "cells": [
  {
   "cell_type": "code",
   "execution_count": 77,
   "id": "cd8c8a75",
   "metadata": {
    "ExecuteTime": {
     "end_time": "2023-12-03T07:10:53.507526Z",
     "start_time": "2023-12-03T07:10:53.503757Z"
    }
   },
   "outputs": [],
   "source": [
    "from IPython.display import Image"
   ]
  },
  {
   "cell_type": "code",
   "execution_count": 78,
   "id": "e3c2a0a7",
   "metadata": {},
   "outputs": [
    {
     "name": "stdout",
     "output_type": "stream",
     "text": [
      "\u001b[1m\u001b[34mswanlab\u001b[0m\u001b[0m: Tracking run with swanlab version 0.4.8                                   \n",
      "\u001b[1m\u001b[34mswanlab\u001b[0m\u001b[0m: Run data will be saved locally in \u001b[35m\u001b[1m/Users/little1d/Desktop/Code/Generative-Models/swanlog/run-20250213_190753-5dd1edab\u001b[0m\u001b[0m\n",
      "\u001b[1m\u001b[34mswanlab\u001b[0m\u001b[0m: 👋 Hi \u001b[1m\u001b[39mHarrison\u001b[0m\u001b[0m, welcome to swanlab!\n",
      "\u001b[1m\u001b[34mswanlab\u001b[0m\u001b[0m: Syncing run \u001b[33mVAE\u001b[0m to the cloud\n",
      "\u001b[1m\u001b[34mswanlab\u001b[0m\u001b[0m: 🌟 Run `\u001b[1mswanlab watch /Users/little1d/Desktop/Code/Generative-Models/swanlog\u001b[0m` to view SwanLab Experiment Dashboard locally\n",
      "\u001b[1m\u001b[34mswanlab\u001b[0m\u001b[0m: 🏠 View project at \u001b[34m\u001b[4mhttps://api.swanlab.cn/@Harrison/Gerative-Model-Foundamental-Knowledge\u001b[0m\u001b[0m\n",
      "\u001b[1m\u001b[34mswanlab\u001b[0m\u001b[0m: 🚀 View run at \u001b[34m\u001b[4mhttps://api.swanlab.cn/@Harrison/Gerative-Model-Foundamental-Knowledge/runs/zukbpyngi0de1nhnntwnc\u001b[0m\u001b[0m\n"
     ]
    },
    {
     "data": {
      "text/html": [
       "\n",
       "<!DOCTYPE html>\n",
       "<html lang=\"en\">\n",
       "<head>\n",
       "    <meta charset=\"UTF-8\">\n",
       "    <meta name=\"viewport\" content=\"width=device-width, initial-scale=1.0\">\n",
       "    <title>Show Iframe</title>\n",
       "    \n",
       "        <script>\n",
       "            function showIframe() {\n",
       "                var iframeHtml = '<iframe src=\"https://api.swanlab.cn/@Harrison/Gerative-Model-Foundamental-Knowledge/runs/zukbpyngi0de1nhnntwnc\" width=100% height=\"600\" frameborder=\"no\"></iframe>';\n",
       "                document.getElementById('iframeContainer').innerHTML = iframeHtml;\n",
       "            }\n",
       "        </script>\n",
       "        \n",
       "</head>\n",
       "<body>\n",
       "    <style>\n",
       "        .interactive-button {\n",
       "            display: flex;\n",
       "            align-items: center;\n",
       "            height: 36px;\n",
       "            border: 0px;\n",
       "            background-color: #2c8f63;\n",
       "            color: white;\n",
       "            padding: 10px 20px;\n",
       "            transition: background-color 0.3s, transform 0.2s;\n",
       "        }\n",
       "\n",
       "        .interactive-button:hover {\n",
       "            background-color: #5cab87;\n",
       "            cursor: pointer;\n",
       "        }\n",
       "\n",
       "        .interactive-button:active { background-color: #217952; transform: scale(0.96); } </style> <br> <button \n",
       "        onclick=\"showIframe()\" class=\"interactive-button\"> <svg style=\"height: 16px; margin-right: 8px;\" viewBox=\"0 0 \n",
       "        46 46\" fill=\"none\"> <path d=\"M10.8439 21.1974C10.6414 21.2854 10.4477 21.3925 10.2655 21.5173L10.2069 \n",
       "        21.5652C10.1839 21.58 10.1625 21.5969 10.1429 21.6159C6.29135 24.6118 4.22831 29.4416 5.32646 34.282C5.94656 \n",
       "        37.0577 7.50461 39.5348 9.73801 41.2958C11.9714 43.0568 14.7436 43.994 17.5874 43.9495H18.0219C19.8864 \n",
       "        43.8697 21.7087 43.3694 23.3526 42.486C24.9964 41.6026 26.4193 40.3589 27.5147 38.848C28.61 37.3371 29.3496 \n",
       "        35.598 29.678 33.761C30.0065 31.9239 29.9153 30.0363 29.4112 28.2395C28.9181 26.4723 27.8919 24.8437 26.9937 \n",
       "        23.2551C25.4158 20.4653 23.8343 17.6764 22.2492 14.8884C21.7801 14.0647 21.3057 13.2465 20.8419 \n",
       "        12.4228C20.2315 11.3353 19.2746 10.1519 19.224 8.86183C19.1733 7.57176 20.2235 6.32701 21.5082 \n",
       "        6.07912C23.9284 5.61801 25.0639 8.24078 25.0693 8.23812C25.363 8.94035 25.9123 9.50489 26.6063 \n",
       "        9.81764C27.3002 10.1304 28.087 10.168 28.8077 9.92298C29.5283 9.67791 30.1291 9.1684 30.4885 8.49743C30.8479 \n",
       "        7.82646 30.9392 7.04405 30.7439 6.30835C30.1514 4.37314 28.9133 2.69953 27.2363 1.56656C25.7615 0.511704 \n",
       "        23.9847 -0.0372109 22.1719 0.00195984C20.9049 0.00893199 19.6532 0.27989 18.4967 0.797557C17.3402 1.31522 \n",
       "        16.3043 2.06823 15.4551 3.00856C14.49 4.08707 13.7984 5.38193 13.4389 6.78385C13.0794 8.18576 13.0624 9.6536 \n",
       "        13.3894 11.0635C13.52 11.593 13.6984 12.1095 13.9225 12.6067C14.5595 14.0514 15.4951 15.3681 16.284 \n",
       "        16.7355C17.2525 18.4147 18.2209 20.0948 19.1893 21.7758C20.1578 23.4568 21.1351 25.1449 22.1213 \n",
       "        26.8401C22.9209 28.2421 23.7925 29.4682 23.8805 31.1528C23.9175 32.0513 23.7682 32.9479 23.4419 \n",
       "        33.7859C23.1156 34.6239 22.6194 35.3854 21.9845 36.0223C21.3496 36.6592 20.5897 37.1578 19.7527 \n",
       "        37.4868C18.9157 37.8157 18.0196 37.9678 17.121 37.9336C14.0024 37.7923 11.6488 35.4814 11.1744 32.4588C10.58 \n",
       "        28.6419 13.552 26.5469 13.552 26.5469C14.1782 26.1785 14.6497 25.5955 14.8791 24.906C15.1084 24.2166 15.0801 \n",
       "        23.4673 14.7993 22.7971C14.5186 22.127 14.0044 21.5813 13.3521 21.2611C12.6998 20.941 11.9536 20.8682 11.2517 \n",
       "        21.0561C11.1174 21.0939 10.9856 21.1402 10.8572 21.1947\" fill=\"white\" /> <path d=\"M42.8101 31.5968C42.8109 \n",
       "        30.5198 42.7218 29.4445 42.5435 28.3823C42.2663 26.7069 41.7464 25.0808 41.0002 23.5552C40.5524 22.6463 \n",
       "        39.9874 21.7374 39.1024 21.2417C38.6593 20.9919 38.1589 20.8617 37.6502 20.8639C37.1416 20.8661 36.6423 \n",
       "        21.0006 36.2013 21.2541C35.7604 21.5077 35.393 21.8716 35.1352 22.3101C34.8775 22.7485 34.7382 23.2466 \n",
       "        34.7312 23.7552C34.7072 24.8773 35.3149 25.8875 35.768 26.9217C36.5212 28.6453 36.8623 30.5208 36.7642 \n",
       "        32.3993C36.6661 34.2777 36.1315 36.1075 35.2029 37.7433C35.146 37.8404 35.0952 37.941 35.051 38.0445C34.8623 \n",
       "        38.4842 34.7635 38.9573 34.7605 39.4358C34.7802 40.1222 35.0356 40.7808 35.4835 41.3011C35.9315 41.8214 \n",
       "        36.5449 42.1717 37.2207 42.2932C38.8759 42.589 40.1899 41.347 40.8856 39.9609C42.1643 37.3589 42.823 34.4961 \n",
       "        42.8101 31.5968Z\" fill=\"white\" /> <path d=\"M28.2309 11.8938C28.1761 11.9043 28.1218 11.9176 28.0683 \n",
       "        11.9338C27.9593 11.9642 27.8611 12.0249 27.7851 12.1088C27.7091 12.1928 27.6584 12.2965 27.6389 \n",
       "        12.408C27.6193 12.5195 27.6318 12.6343 27.6748 12.7391C27.7178 12.8438 27.7895 12.9343 27.8818 \n",
       "        12.9999C29.2375 14.0252 30.3809 15.3043 31.2482 16.7662C31.4838 17.1677 31.6888 17.5865 31.8612 \n",
       "        18.0189C32.0052 18.3921 32.1971 18.8799 32.6822 18.8532C33.0607 18.8346 33.2153 18.512 33.3192 \n",
       "        18.1895C33.8137 16.5125 33.9678 14.7534 33.7723 13.0159C33.6331 12.0693 33.4155 11.1359 33.122 \n",
       "        10.2252C33.0775 10.0047 32.9744 9.80029 32.8235 9.6335C32.7273 9.54627 32.6054 9.49262 32.4761 9.4806C32.3468 \n",
       "        9.46859 32.2171 9.49886 32.1065 9.56687C32.0016 9.65188 31.9115 9.75365 31.8399 9.86806C31.3956 10.4658 \n",
       "        30.825 10.9581 30.1687 11.3101C29.8377 11.4861 29.4893 11.6272 29.1292 11.7312C28.828 11.8192 28.5215 11.8325 \n",
       "        28.2309 11.8938Z\" fill=\"white\" /> </svg> Display SwanLab Board </button> <br> <div \n",
       "        id=\"iframeContainer\"></div> </body> </html>"
      ],
      "text/plain": [
       "<IPython.core.display.HTML object>"
      ]
     },
     "metadata": {},
     "output_type": "display_data"
    }
   ],
   "source": [
    "import os\n",
    "import swanlab\n",
    "from dotenv import load_dotenv\n",
    "\n",
    "load_dotenv()\n",
    "\n",
    "SWANLAB_API_KEY = os.getenv(\"SWANLAB_API_KEY\")\n",
    "\n",
    "# https://docs.swanlab.cn/api/py-init.html\n",
    "exp = swanlab.init(\n",
    "    project=\"Gerative-Model-Foundamental-Knowledge\",\n",
    "    experiment_name=\"VAE\",\n",
    "    description=\"VAE algo in mnist datasets\",\n",
    ")"
   ]
  },
  {
   "cell_type": "code",
   "execution_count": 79,
   "id": "891f9f69",
   "metadata": {
    "ExecuteTime": {
     "end_time": "2023-11-26T10:20:35.293960Z",
     "start_time": "2023-11-26T10:20:34.804258Z"
    }
   },
   "outputs": [],
   "source": [
    "import os\n",
    "import torch\n",
    "import torch.utils.data\n",
    "from torch import nn, optim\n",
    "from torch.nn import functional as F\n",
    "from torchvision import datasets, transforms\n",
    "from torchvision.utils import save_image\n",
    "import matplotlib.pyplot as plt"
   ]
  },
  {
   "cell_type": "markdown",
   "id": "11e1d594",
   "metadata": {},
   "source": [
    "## from AE to VAE\n"
   ]
  },
  {
   "cell_type": "markdown",
   "id": "77add427",
   "metadata": {},
   "source": [
    "- references\n",
    "  - https://arxiv.org/pdf/1312.6114.pdf\n",
    "- AE 一般都是降维的，AE 一般用来压缩重构，VAE 则是用来做 generative，做图像生成；\n",
    "  - latent/smaller/compressed representation；\n",
    "  - 关于 latent variables（$z$）建模：latent variable models\n",
    "    - latent variable：hidden & 不可直接被观察到的变量（variables）；\n",
    "      - 比如对健康/智商等的评估，通过一组可观测的指标来 infer；\n",
    "    - LDM：Latent Diffusion Model\n",
    "  - AE 关心的是 z（latent vectors/variables），前半部分（encoder），decoder 只是用来监督保证学到一个很好的 encoder；\n",
    "    - VAE 关心的则是 generating 的过程；\n",
    "- 总结下来\n",
    "  - input: $x$, hidden: $\\mu, \\sigma$, output: $\\tilde x$\n",
    "    - $x$：data，可观测的；latent variable models 假设的是，latent space 中的 $z$ 导致了 $x$\n",
    "    - 概率图的角度就是 $z\\rightarrow x$（generative models 的 generation process）\n",
    "  - Encoder: $q_\\phi(z|x), x\\rightarrow z$\n",
    "  - latent distribution：$z=\\mu+\\sigma\\odot \\epsilon$\n",
    "  - Decoder: $p_\\theta(x|z), z\\rightarrow \\tilde x$\n",
    "- references\n",
    "  - https://kvfrans.com/variational-autoencoders-explained/\n",
    "  - https://github.com/pytorch/examples/blob/main/vae/main.py\n"
   ]
  },
  {
   "cell_type": "code",
   "execution_count": 80,
   "id": "13bddb3c",
   "metadata": {
    "ExecuteTime": {
     "end_time": "2023-11-15T14:10:39.267691Z",
     "start_time": "2023-11-15T14:10:39.258057Z"
    }
   },
   "outputs": [
    {
     "data": {
      "text/html": [
       "<img src=\"https://kvfrans.com/content/images/2016/08/autoenc.jpg\" width=\"500\"/>"
      ],
      "text/plain": [
       "<IPython.core.display.Image object>"
      ]
     },
     "execution_count": 80,
     "metadata": {},
     "output_type": "execute_result"
    }
   ],
   "source": [
    "Image(url=\"https://kvfrans.com/content/images/2016/08/autoenc.jpg\", width=500)"
   ]
  },
  {
   "cell_type": "code",
   "execution_count": 81,
   "id": "c1b71474",
   "metadata": {
    "ExecuteTime": {
     "end_time": "2023-11-15T14:10:58.800735Z",
     "start_time": "2023-11-15T14:10:58.791244Z"
    },
    "scrolled": true
   },
   "outputs": [
    {
     "data": {
      "text/html": [
       "<img src=\"https://kvfrans.com/content/images/2016/08/vae.jpg\" width=\"500\"/>"
      ],
      "text/plain": [
       "<IPython.core.display.Image object>"
      ]
     },
     "execution_count": 81,
     "metadata": {},
     "output_type": "execute_result"
    }
   ],
   "source": [
    "Image(url=\"https://kvfrans.com/content/images/2016/08/vae.jpg\", width=500)"
   ]
  },
  {
   "cell_type": "markdown",
   "id": "5442acd1",
   "metadata": {},
   "source": [
    "### 网络结构\n"
   ]
  },
  {
   "cell_type": "markdown",
   "id": "15f221c2",
   "metadata": {},
   "source": [
    "- Encoder & Decoder\n",
    "  - Encoder：$q(z|x)$（神经网络参数为 $\\phi$） => $q_\\phi(z|x)$\n",
    "    - inference network，推断 latent variables $z$\n",
    "  - Decoder: $p(x|z)$（神经网络参数为 $\\theta$）=> $p_\\theta(x|z)$\n",
    "    - generate network\n",
    "- latent space\n",
    "  - 编码器的输出，是两个向量，一个是均值向量 $\\mu$，一个是标准差向量 $\\sigma$，它们长度相同，它们一起定义了输入数据在 latent space 中的 representation；\n"
   ]
  },
  {
   "cell_type": "markdown",
   "id": "b9557a4a",
   "metadata": {},
   "source": [
    "## loss function\n"
   ]
  },
  {
   "cell_type": "markdown",
   "id": "fa5565d4",
   "metadata": {},
   "source": [
    "$$\n",
    "\\mathcal L(\\theta, \\phi;\\mathbf x, \\mathbf z)=\\underbrace{\\mathbb E_{q_\\phi(z|x)}\\left[\\log p_\\theta(x|z)\\right]}_{\\text{reconstruction loss}}-\\underbrace{D_{KL}\\left(q_\\phi(z|x)\\|p(z)\\right)}_{\\text{stay close to Normal(0,1)}}\n",
    "$$\n"
   ]
  },
  {
   "cell_type": "markdown",
   "id": "c101e062",
   "metadata": {},
   "source": [
    "### variational inference\n"
   ]
  },
  {
   "cell_type": "markdown",
   "id": "4e17497f",
   "metadata": {},
   "source": [
    "- 我们想要计算 $z$ 的后验概率\n",
    "\n",
    "  $$\n",
    "  p_\\theta(z|x)=\\frac{p_\\theta(x|z)p_\\theta(z)}{p_\\theta(x)}=\\frac{p_\\theta(x|z)p_\\theta(z)}{\\int p_\\theta(x, z)dz}\n",
    "  $$\n",
    "\n",
    "  - 比较难计算的是分母的 $p_\\theta(x)$（marginal likelihood or evidence），有如下的两种计算思路：\n",
    "    - Monte Carlo sampling\n",
    "    - variational inference\n",
    "\n",
    "- 现如果要计算 **后验 $p_\\theta(z|x)$，我们引入 $q_\\phi(z)$**（也是一个概率分布 $\\sum_zq_\\phi(z)=1$） 来逼近，\n",
    "\n",
    "$$\n",
    "\\begin{split}\n",
    "KL\\left[q_\\phi(z)\\|p_\\theta(z|x)\\right]&=-\\sum_zq_\\phi(z)\\log \\frac{p_\\theta(z|x)}{q_\\phi(z)}\\\\\n",
    "&=-\\underset{z}{\\sum} q_{\\phi}(z) \\log \\bigg( \\frac{p_{\\theta}(x,z)}{q_{\\phi}(z)} \\cdot \\frac{1}{p_{\\theta}(x)} \\bigg) \\\\\n",
    "&= -\\underset{z}{\\sum} q_{\\phi}(z) \\bigg( \\log\\frac{p_{\\theta}(x,z)}{q_{\\phi}(z)} - \\log p_{\\theta}(x) \\bigg) \\\\\n",
    "&= -\\underset{z}{\\sum} q_{\\phi}(z) \\log \\frac{p_{\\theta}(x,z)}{q_{\\phi}(z)} + \\underset{z}{\\sum} q_{\\phi}(z) \\log p_{\\theta}(x)\\\\\n",
    "&==\n",
    "-\\underset{z}{\\sum} q_{\\phi}(z) \\log \\frac{p_{\\theta}(x,z)}{q_{\\phi}(z)} + \\log p_{\\theta}(x)\n",
    "\\end{split}\n",
    "$$\n",
    "\n",
    "$$\n",
    "\\log p_{\\theta}(x) = \\underbrace{KL[q_{\\phi}(z) \\lVert p_{\\theta}(z \\lvert x)]}_{\\text{kl div}} + \\underbrace{\\underset{z}{\\sum} q_{\\phi}(z) \\log \\frac{p_{\\theta}(x,z)}{q_{\\phi}(z)}}_{\\text{variational lower bound /ELBO}}\\\\\n",
    "\\underbrace{\\underset{z}{\\sum} q_{\\phi}(z) \\log \\frac{p_{\\theta}(x,z)}{q_{\\phi}(z)}}_{\\text{variational lower bound /ELBO}}=\\log p_{\\theta}(x)-\\underbrace{KL[q_{\\phi}(z) \\lVert p_{\\theta}(z \\lvert x)]}_{\\text{kl div}}\n",
    "$$\n"
   ]
  },
  {
   "cell_type": "markdown",
   "id": "133d7f92",
   "metadata": {},
   "source": [
    "### ELBO\n"
   ]
  },
  {
   "cell_type": "markdown",
   "id": "108d0f6c",
   "metadata": {},
   "source": [
    "- Evidence ($p(x)$) Lower BOund\n",
    "\n",
    "  $$\n",
    "  \\begin{align}\n",
    "  \\mathcal{L} &= \\underset{z}{\\sum} q_{\\phi}(z) \\log \\frac{p_{\\theta}(x,z)}{q_{\\phi}(z)} \\\\\n",
    "  &= \\mathbb{E}_{q_{\\phi}(z)} \\log \\frac{p_{\\theta}(x,z)}{q_{\\phi}(z)}\n",
    "  \\end{align}\n",
    "  $$\n",
    "\n",
    "  - 因为 KL div 非负，因此有 $\\log p_\\theta(x)\\geq \\mathcal L$，$\\mathcal L$ 是 marginal log likelihood 的 lower bound\n",
    "  - variational inference 聚焦在如何提升 ELBO 而不是最大似然；\n",
    "    - 最大化 ELBO 的过程，也是最大化 $\\log p_{\\theta}(x)$ （maximizing the evidence $p(x)$） 和最小化 $\\underbrace{KL[q_{\\phi}(z) \\lVert p_{\\theta}(z \\lvert x)]}_{\\text{kl div}}$ 的过程\n"
   ]
  },
  {
   "cell_type": "code",
   "execution_count": 82,
   "id": "c94a2f85",
   "metadata": {
    "ExecuteTime": {
     "end_time": "2023-11-19T10:49:10.329287Z",
     "start_time": "2023-11-19T10:49:10.320036Z"
    }
   },
   "outputs": [
    {
     "data": {
      "text/html": [
       "<img src=\"https://jejjohnson.github.io/research_notebook/_images/elbo_inequality.png\"/>"
      ],
      "text/plain": [
       "<IPython.core.display.Image object>"
      ]
     },
     "execution_count": 82,
     "metadata": {},
     "output_type": "execute_result"
    }
   ],
   "source": [
    "# https://jejjohnson.github.io/research_notebook/content/notes/concepts/jensens.html\n",
    "Image(url=\"https://jejjohnson.github.io/research_notebook/_images/elbo_inequality.png\")"
   ]
  },
  {
   "cell_type": "markdown",
   "id": "97fe9803",
   "metadata": {},
   "source": [
    "### VAE\n"
   ]
  },
  {
   "cell_type": "markdown",
   "id": "a0e1fc31",
   "metadata": {},
   "source": [
    "$$\n",
    "\\begin{align}\n",
    "\\mathcal{L} &= \\underset{z}{\\sum} q_{\\phi}(z) \\log \\frac{p_{\\theta}(x,z)}{q_{\\phi}(z)} \\\\\n",
    "&= \\mathbb{E}_{q_{\\phi}(z)} \\log \\frac{p_{\\theta}(x,z)}{q_{\\phi}(z)} \\\\\n",
    "&= \\mathbb{E}_{q_{\\phi}(z)} \\log \\frac{p_{\\theta}(x \\lvert z)p_{\\theta}(z)}{q_{\\phi}(z)} \\\\\n",
    "&= \\mathbb{E}_{q_{\\phi}(z)} \\log p_{\\theta}(x \\lvert z) +  \\mathbb{E}_{q_{\\phi}(z)} \\log \\frac{p_{\\theta}(z)}{q_{\\phi}(z)} \\\\\n",
    "&= \\mathbb{E}_{q_{\\phi}(z)} \\log p_{\\theta}(x \\lvert z) - KL[q_{\\phi}(z) \\lVert p_{\\theta}(z)]\n",
    "\\end{align}\n",
    "$$\n",
    "\n",
    "- 因为我们选择 $q_\\phi(z)$ 就是为了逼近后验 $p_\\theta(z|x)$, 我们选择让 $z$ conditional on $x$，也即是$q_\\phi(z)=q_\\phi(z|x)$，因此\n",
    "\n",
    "  $$\n",
    "  \\mathcal L=\\underbrace{\\mathbb{E}_{q_{\\phi}(z|x)} \\log p_{\\theta}(x \\lvert z)}_{\\text{reconstruction loss}}\\underbrace{- KL[q_{\\phi}(z|x) \\lVert p_{\\theta}(z)]}_{\\text{regularization}}\n",
    "  $$\n",
    "\n",
    "  - $p_\\theta(z)=\\mathcal N(0,I)$（diagonal unit Gaussian），先验的假设；\n",
    "\n",
    "- 该公式便是著名的 VAE 的最大化的目标（最大化 elbo）；\n",
    "  - 注意是最大化哈，最大化的右边不是 loss，对其取负号，表示的才是要最小化的目标；\n"
   ]
  },
  {
   "cell_type": "code",
   "execution_count": 83,
   "id": "c56369a7",
   "metadata": {
    "ExecuteTime": {
     "end_time": "2023-11-26T09:06:48.130975Z",
     "start_time": "2023-11-26T09:06:48.114592Z"
    }
   },
   "outputs": [],
   "source": [
    "class VAE(nn.Module):\n",
    "    def __init__(self, input_dim=784, h_dim=400, z_dim=20):\n",
    "        super(VAE, self).__init__()\n",
    "        # 28*28 ==> 784\n",
    "        # fc1 => fc21\n",
    "        # fc1 => fc22\n",
    "        self.fc1 = nn.Linear(input_dim, h_dim)\n",
    "\n",
    "        # mu\n",
    "        self.fc21 = nn.Linear(h_dim, z_dim)\n",
    "        # logvar\n",
    "        self.fc22 = nn.Linear(h_dim, z_dim)\n",
    "\n",
    "        self.fc3 = nn.Linear(z_dim, h_dim)\n",
    "        # to 784: 28*28\n",
    "        self.fc4 = nn.Linear(h_dim, input_dim)\n",
    "\n",
    "    def encode(self, x):\n",
    "        h1 = F.relu(self.fc1(x))\n",
    "        return self.fc21(h1), self.fc22(h1)\n",
    "\n",
    "    def reparameterize(self, mu, logvar):\n",
    "        std = torch.exp(0.5 * logvar)\n",
    "        eps = torch.randn_like(std)\n",
    "        # z = mu + eps*std\n",
    "        return mu + eps * std\n",
    "\n",
    "    def decode(self, z):\n",
    "        h3 = F.relu(self.fc3(z))\n",
    "        # sigmoid: 0-1 之间，后边会用到 BCE loss 计算重构 loss（reconstruction loss）\n",
    "        return torch.sigmoid(self.fc4(h3))\n",
    "\n",
    "    def forward(self, x):\n",
    "        mu, logvar = self.encode(x.view(-1, 784))\n",
    "        z = self.reparameterize(mu, logvar)\n",
    "        return self.decode(z), mu, logvar"
   ]
  },
  {
   "cell_type": "markdown",
   "id": "319894bb",
   "metadata": {},
   "source": [
    "$$\n",
    "\\frac{\\log\\sigma^2}2=\\log \\sigma\\\\\n",
    "\\exp\\left(\\frac{\\log\\sigma^2}2\\right)=\\exp(\\log \\sigma)=\\sigma\n",
    "$$\n"
   ]
  },
  {
   "cell_type": "code",
   "execution_count": 84,
   "id": "d9fd63b0",
   "metadata": {
    "ExecuteTime": {
     "end_time": "2023-11-19T10:54:03.141216Z",
     "start_time": "2023-11-19T10:54:02.769386Z"
    }
   },
   "outputs": [],
   "source": [
    "vae = VAE()\n",
    "inputs = torch.randn(1, 28 * 28)"
   ]
  },
  {
   "cell_type": "markdown",
   "id": "b8449d3e",
   "metadata": {},
   "source": [
    "## training\n"
   ]
  },
  {
   "cell_type": "markdown",
   "id": "8c4c21a5",
   "metadata": {},
   "source": [
    "### sampling: reparameterization trick\n"
   ]
  },
  {
   "cell_type": "code",
   "execution_count": 85,
   "id": "45ef33ab",
   "metadata": {
    "ExecuteTime": {
     "end_time": "2023-11-15T15:32:51.898719Z",
     "start_time": "2023-11-15T15:32:51.887972Z"
    }
   },
   "outputs": [
    {
     "data": {
      "text/html": [
       "<img src=\"https://miro.medium.com/v2/resize:fit:4800/format:webp/1*I9532-09gKnRR43acCFedQ.png\" width=\"400\"/>"
      ],
      "text/plain": [
       "<IPython.core.display.Image object>"
      ]
     },
     "execution_count": 85,
     "metadata": {},
     "output_type": "execute_result"
    }
   ],
   "source": [
    "Image(\n",
    "    url=\"https://miro.medium.com/v2/resize:fit:4800/format:webp/1*I9532-09gKnRR43acCFedQ.png\",\n",
    "    width=400,\n",
    ")"
   ]
  },
  {
   "cell_type": "markdown",
   "id": "d0d1a23e",
   "metadata": {},
   "source": [
    "- 重参数化技巧使得反向传播成为可能；\n",
    "  - 在 VAE 中，我们希望从潜在空间（latent space）中抽取样本，这个潜在空间通常是由神经网络输出的一些参数（如均值和方差）定义的正态分布。然而，直接从这种分布中抽取样本是一个随机过程，这使得无法直接对其进行反向传播，因为梯度无法穿过随机节点。\n",
    "- 重参数化技巧，它的基本思想是将随机抽样过程重写为一个可微分的操作，具体操作如下：\n",
    "  - 分离随机性和网络参数，$q_\\phi(z|x)$ 预测 $\\mu,\\sigma$, 我们不再是从该参数化的分布中直接进行采样，而是从一个标准正态分布 $\\mathcal N(0,1)$ 中抽取一个随机噪声，$\\epsilon$\n",
    "  - 重参数化转换，基于上一步，我们可以计算 latent variable $z=\\mu+\\sigma\\odot \\epsilon=g_{\\mu,\\sigma}(\\epsilon)$ （element-wise product）\n",
    "    - 这里的关键是噪声 $\\epsilon$ 是随机的，但是一旦抽取，它就是一个固定的值，使得整个表达式变得可微分。\n",
    "    - $z=\\mu+\\sigma\\odot\\epsilon$ 而不是 $z\\sim q_\\phi(z|x)$，直接取值，而不是采样；\n"
   ]
  },
  {
   "cell_type": "code",
   "execution_count": 86,
   "id": "77a4c59d",
   "metadata": {
    "ExecuteTime": {
     "end_time": "2023-11-15T15:35:55.969675Z",
     "start_time": "2023-11-15T15:35:55.959474Z"
    },
    "scrolled": false
   },
   "outputs": [
    {
     "data": {
      "text/html": [
       "<img src=\"https://i.stack.imgur.com/TzX3I.png\" width=\"400\"/>"
      ],
      "text/plain": [
       "<IPython.core.display.Image object>"
      ]
     },
     "execution_count": 86,
     "metadata": {},
     "output_type": "execute_result"
    }
   ],
   "source": [
    "Image(url=\"https://i.stack.imgur.com/TzX3I.png\", width=400)"
   ]
  },
  {
   "cell_type": "markdown",
   "id": "3765c460",
   "metadata": {},
   "source": [
    "### training loss\n"
   ]
  },
  {
   "cell_type": "markdown",
   "id": "a5e5d8e0",
   "metadata": {},
   "source": [
    "```\n",
    "reconst_loss = F.binary_cross_entropy(x_reconst, x, size_average=False)\n",
    "kl_div = - 0.5 * torch.sum(1 + log_var - mu.pow(2) - log_var.exp())\n",
    "```\n"
   ]
  },
  {
   "cell_type": "markdown",
   "id": "f400a1b8",
   "metadata": {},
   "source": [
    "### inference/generating\n"
   ]
  },
  {
   "cell_type": "markdown",
   "id": "cf256997",
   "metadata": {},
   "source": [
    "```\n",
    "# 从标准正态分布中进行采样\n",
    "z = torch.randn(batch_size, z_dim).to(device)\n",
    "out = model.decode(z).view(-1, 1, 28, 28)\n",
    "```\n",
    "\n",
    "- 编码空间（潜在空间）通常是连续的，可以从潜在空间中随机采样并通过解码器生成新的图像。\n",
    "  - samaple from a distribution\n"
   ]
  },
  {
   "cell_type": "markdown",
   "id": "a8a60e48",
   "metadata": {},
   "source": [
    "## coding\n"
   ]
  },
  {
   "cell_type": "code",
   "execution_count": 87,
   "id": "0f1e3ac7",
   "metadata": {
    "ExecuteTime": {
     "end_time": "2023-11-26T09:03:10.210186Z",
     "start_time": "2023-11-26T09:03:10.196980Z"
    }
   },
   "outputs": [],
   "source": [
    "# Device configuration\n",
    "device = torch.device(\"cuda\" if torch.cuda.is_available() else \"cpu\")\n",
    "\n",
    "# Create a directory if not exists\n",
    "sample_dir = \"samples\"\n",
    "if not os.path.exists(sample_dir):\n",
    "    os.makedirs(sample_dir)"
   ]
  },
  {
   "cell_type": "code",
   "execution_count": 88,
   "id": "7ad47306",
   "metadata": {
    "ExecuteTime": {
     "end_time": "2023-11-26T09:03:14.427041Z",
     "start_time": "2023-11-26T09:03:14.411493Z"
    }
   },
   "outputs": [
    {
     "data": {
      "text/plain": [
       "device(type='cpu')"
      ]
     },
     "execution_count": 88,
     "metadata": {},
     "output_type": "execute_result"
    }
   ],
   "source": [
    "device"
   ]
  },
  {
   "cell_type": "code",
   "execution_count": 89,
   "id": "1ac24779",
   "metadata": {
    "ExecuteTime": {
     "end_time": "2023-11-26T11:50:57.802376Z",
     "start_time": "2023-11-26T11:50:57.796000Z"
    }
   },
   "outputs": [],
   "source": [
    "# Hyper-parameters\n",
    "image_size = 784  # 28*28\n",
    "h_dim = 400\n",
    "z_dim = 20\n",
    "num_epochs = 20\n",
    "batch_size = 128\n",
    "learning_rate = 3e-4"
   ]
  },
  {
   "cell_type": "code",
   "execution_count": 90,
   "id": "b705b118",
   "metadata": {
    "ExecuteTime": {
     "end_time": "2023-11-26T09:29:43.684303Z",
     "start_time": "2023-11-26T09:29:43.598493Z"
    }
   },
   "outputs": [
    {
     "data": {
      "text/plain": [
       "torch.Size([1, 28, 28])"
      ]
     },
     "execution_count": 90,
     "metadata": {},
     "output_type": "execute_result"
    }
   ],
   "source": [
    "# MNIST dataset\n",
    "dataset = datasets.MNIST(\n",
    "    root=\"./data\", train=True, transform=transforms.ToTensor(), download=True\n",
    ")\n",
    "# Data loader\n",
    "data_loader = torch.utils.data.DataLoader(\n",
    "    dataset=dataset, batch_size=batch_size, shuffle=True\n",
    ")\n",
    "dataset[0][0].shape"
   ]
  },
  {
   "cell_type": "code",
   "execution_count": 91,
   "id": "2765afaf",
   "metadata": {
    "ExecuteTime": {
     "end_time": "2023-11-26T09:06:34.393504Z",
     "start_time": "2023-11-26T09:06:34.282304Z"
    }
   },
   "outputs": [
    {
     "data": {
      "text/plain": [
       "torch.Size([1, 28, 28])"
      ]
     },
     "execution_count": 91,
     "metadata": {},
     "output_type": "execute_result"
    }
   ],
   "source": [
    "# FashionMNIST dataset\n",
    "dataset = datasets.FashionMNIST(\n",
    "    root=\"./data\", train=True, transform=transforms.ToTensor(), download=True\n",
    ")\n",
    "\n",
    "# Data loader\n",
    "data_loader = torch.utils.data.DataLoader(\n",
    "    dataset=dataset, batch_size=batch_size, shuffle=True\n",
    ")\n",
    "dataset[0][0].shape"
   ]
  },
  {
   "cell_type": "code",
   "execution_count": 92,
   "id": "536fee3c",
   "metadata": {
    "ExecuteTime": {
     "end_time": "2023-11-26T11:53:31.098907Z",
     "start_time": "2023-11-26T11:53:31.089076Z"
    }
   },
   "outputs": [],
   "source": [
    "model = VAE().to(device)\n",
    "optimizer = torch.optim.Adam(model.parameters(), lr=learning_rate)"
   ]
  },
  {
   "cell_type": "code",
   "execution_count": 93,
   "id": "9a5361b5",
   "metadata": {
    "ExecuteTime": {
     "end_time": "2023-11-26T11:55:06.154014Z",
     "start_time": "2023-11-26T11:53:33.064754Z"
    },
    "scrolled": false
   },
   "outputs": [
    {
     "name": "stderr",
     "output_type": "stream",
     "text": [
      "/Users/little1d/Desktop/Dev_env/miniconda3/envs/gen/lib/python3.10/site-packages/torch/nn/_reduction.py:51: UserWarning: size_average and reduce args will be deprecated, please use reduction='sum' instead.\n",
      "  warnings.warn(warning.format(ret))\n"
     ]
    },
    {
     "name": "stdout",
     "output_type": "stream",
     "text": [
      "Epoch[1/20], Step [200/469], total Loss: 39210.8047=Reconst Loss: 37161.8516+KL Div: 2048.9536\n",
      "Epoch[1/20], Step [400/469], total Loss: 35251.9023=Reconst Loss: 33211.5156+KL Div: 2040.3853\n",
      "Epoch[2/20], Step [200/469], total Loss: 34769.5039=Reconst Loss: 32618.5664+KL Div: 2150.9375\n",
      "Epoch[2/20], Step [400/469], total Loss: 33197.4648=Reconst Loss: 31203.4531+KL Div: 1994.0120\n",
      "Epoch[3/20], Step [200/469], total Loss: 32922.2227=Reconst Loss: 30888.0449+KL Div: 2034.1780\n",
      "Epoch[3/20], Step [400/469], total Loss: 31774.2539=Reconst Loss: 29638.3516+KL Div: 2135.9023\n",
      "Epoch[4/20], Step [200/469], total Loss: 33622.5078=Reconst Loss: 31370.5332+KL Div: 2251.9766\n",
      "Epoch[4/20], Step [400/469], total Loss: 33361.9883=Reconst Loss: 31227.8340+KL Div: 2134.1538\n",
      "Epoch[5/20], Step [200/469], total Loss: 33215.6094=Reconst Loss: 31190.8906+KL Div: 2024.7197\n",
      "Epoch[5/20], Step [400/469], total Loss: 32110.7656=Reconst Loss: 30134.6465+KL Div: 1976.1182\n",
      "Epoch[6/20], Step [200/469], total Loss: 33057.2266=Reconst Loss: 31038.1445+KL Div: 2019.0823\n",
      "Epoch[6/20], Step [400/469], total Loss: 31050.8672=Reconst Loss: 28999.5391+KL Div: 2051.3276\n",
      "Epoch[7/20], Step [200/469], total Loss: 31368.2227=Reconst Loss: 29261.4102+KL Div: 2106.8120\n",
      "Epoch[7/20], Step [400/469], total Loss: 31623.0723=Reconst Loss: 29510.8281+KL Div: 2112.2446\n",
      "Epoch[8/20], Step [200/469], total Loss: 31503.5391=Reconst Loss: 29435.9766+KL Div: 2067.5630\n",
      "Epoch[8/20], Step [400/469], total Loss: 33095.1758=Reconst Loss: 30980.0664+KL Div: 2115.1084\n",
      "Epoch[9/20], Step [200/469], total Loss: 30503.3281=Reconst Loss: 28381.9336+KL Div: 2121.3938\n",
      "Epoch[9/20], Step [400/469], total Loss: 31853.3594=Reconst Loss: 29742.0781+KL Div: 2111.2805\n",
      "Epoch[10/20], Step [200/469], total Loss: 31418.3613=Reconst Loss: 29360.8711+KL Div: 2057.4895\n",
      "Epoch[10/20], Step [400/469], total Loss: 31486.3418=Reconst Loss: 29459.0586+KL Div: 2027.2832\n",
      "Epoch[11/20], Step [200/469], total Loss: 31925.3867=Reconst Loss: 29865.2363+KL Div: 2060.1514\n",
      "Epoch[11/20], Step [400/469], total Loss: 31805.7070=Reconst Loss: 29778.0742+KL Div: 2027.6338\n",
      "Epoch[12/20], Step [200/469], total Loss: 31495.8926=Reconst Loss: 29479.6953+KL Div: 2016.1981\n",
      "Epoch[12/20], Step [400/469], total Loss: 30222.3594=Reconst Loss: 28180.4102+KL Div: 2041.9485\n",
      "Epoch[13/20], Step [200/469], total Loss: 30622.7852=Reconst Loss: 28513.9258+KL Div: 2108.8589\n",
      "Epoch[13/20], Step [400/469], total Loss: 32268.7910=Reconst Loss: 30197.7109+KL Div: 2071.0801\n",
      "Epoch[14/20], Step [200/469], total Loss: 30280.2695=Reconst Loss: 28153.7031+KL Div: 2126.5667\n",
      "Epoch[14/20], Step [400/469], total Loss: 32343.6172=Reconst Loss: 30151.2930+KL Div: 2192.3250\n",
      "Epoch[15/20], Step [200/469], total Loss: 32821.3125=Reconst Loss: 30706.9414+KL Div: 2114.3696\n",
      "Epoch[15/20], Step [400/469], total Loss: 31311.4141=Reconst Loss: 29155.3867+KL Div: 2156.0276\n",
      "Epoch[16/20], Step [200/469], total Loss: 30876.8828=Reconst Loss: 28871.3281+KL Div: 2005.5544\n",
      "Epoch[16/20], Step [400/469], total Loss: 30874.9004=Reconst Loss: 28783.1680+KL Div: 2091.7319\n",
      "Epoch[17/20], Step [200/469], total Loss: 31018.1445=Reconst Loss: 28850.8594+KL Div: 2167.2856\n",
      "Epoch[17/20], Step [400/469], total Loss: 30748.9883=Reconst Loss: 28611.2266+KL Div: 2137.7625\n",
      "Epoch[18/20], Step [200/469], total Loss: 31454.2988=Reconst Loss: 29392.2617+KL Div: 2062.0366\n",
      "Epoch[18/20], Step [400/469], total Loss: 31279.7734=Reconst Loss: 29200.0527+KL Div: 2079.7212\n",
      "Epoch[19/20], Step [200/469], total Loss: 31794.9551=Reconst Loss: 29713.5469+KL Div: 2081.4075\n",
      "Epoch[19/20], Step [400/469], total Loss: 30246.8652=Reconst Loss: 28127.2891+KL Div: 2119.5767\n",
      "Epoch[20/20], Step [200/469], total Loss: 32093.6699=Reconst Loss: 29943.1074+KL Div: 2150.5623\n",
      "Epoch[20/20], Step [400/469], total Loss: 30696.1836=Reconst Loss: 28587.8281+KL Div: 2108.3560\n"
     ]
    }
   ],
   "source": [
    "sample_image = []\n",
    "reconst_image = []\n",
    "for epoch in range(num_epochs):\n",
    "    # training\n",
    "    for i, (x, _) in enumerate(data_loader):\n",
    "        # Forward pass\n",
    "        x = x.to(device).view(-1, image_size)\n",
    "        x_reconst, mu, log_var = model(x)\n",
    "\n",
    "        # Compute reconstruction loss and kl divergence\n",
    "        #\n",
    "        reconst_loss = F.binary_cross_entropy(x_reconst, x, size_average=False)\n",
    "        kl_div = -0.5 * torch.sum(1 + log_var - mu.pow(2) - log_var.exp())\n",
    "\n",
    "        # Backprop and optimize\n",
    "        loss = reconst_loss + kl_div\n",
    "        optimizer.zero_grad()\n",
    "        loss.backward()\n",
    "        optimizer.step()\n",
    "\n",
    "        swanlab.log(\n",
    "            {\"reconst_loss\": reconst_loss, \"kl_div\": kl_div, \"training_loss\": loss}\n",
    "        )\n",
    "\n",
    "        if (i + 1) % 200 == 0:\n",
    "            print(\n",
    "                \"Epoch[{}/{}], Step [{}/{}], total Loss: {:.4f}=Reconst Loss: {:.4f}+KL Div: {:.4f}\".format(\n",
    "                    epoch + 1,\n",
    "                    num_epochs,\n",
    "                    i + 1,\n",
    "                    len(data_loader),\n",
    "                    loss.item(),\n",
    "                    reconst_loss.item(),\n",
    "                    kl_div.item(),\n",
    "                )\n",
    "            )\n",
    "\n",
    "    # sampling/generating\n",
    "    with torch.no_grad():\n",
    "        # 从标准正态分布中进行采样\n",
    "        z = torch.randn(batch_size, z_dim).to(device)\n",
    "        out = model.decode(z).view(-1, 1, 28, 28)\n",
    "        s1_out = swanlab.Image(out, caption=\"sampled-{}.png\".format(epoch + 1))\n",
    "        exp.log(\n",
    "            {\"sample_images\": s1_out, \"step\": epoch + 1},\n",
    "        )\n",
    "        # 16*8\n",
    "        # sample_image.append(s1_out)\n",
    "        # save_image(out, os.path.join(sample_dir, \"sampled-{}.png\".format(epoch + 1)))\n",
    "\n",
    "        # Save the reconstructed images\n",
    "        out, _, _ = model(x)\n",
    "        s2_out = swanlab.Image(out, caption=\"reconst-{}.png\".format(epoch + 1))\n",
    "        x_concat = torch.cat([x.view(-1, 1, 28, 28), out.view(-1, 1, 28, 28)], dim=3)\n",
    "        # reconst_image.append(s2_out)\n",
    "        # 16*16\n",
    "        # save_image(\n",
    "        #     x_concat, os.path.join(sample_dir, \"reconst-{}.png\".format(epoch + 1))\n",
    "        # )\n",
    "        exp.log(\n",
    "            {\"reconst_images\": s2_out, \"step\": epoch + 1},\n",
    "        )"
   ]
  },
  {
   "cell_type": "code",
   "execution_count": 94,
   "id": "36d5ae56",
   "metadata": {},
   "outputs": [
    {
     "name": "stdout",
     "output_type": "stream",
     "text": [
      "[]\n"
     ]
    }
   ],
   "source": [
    "print(reconst_image)"
   ]
  },
  {
   "cell_type": "code",
   "execution_count": 95,
   "id": "d7074a24",
   "metadata": {},
   "outputs": [
    {
     "name": "stdout",
     "output_type": "stream",
     "text": [
      "\u001b[1m\u001b[34mswanlab\u001b[0m\u001b[0m: 🌟 Run `\u001b[1mswanlab watch /Users/little1d/Desktop/Code/Generative-Models/swanlog\u001b[0m` to view SwanLab Experiment Dashboard locally\n",
      "\u001b[1m\u001b[34mswanlab\u001b[0m\u001b[0m: 🏠 View project at \u001b[34m\u001b[4mhttps://api.swanlab.cn/@Harrison/Gerative-Model-Foundamental-Knowledge\u001b[0m\u001b[0m\n",
      "\u001b[1m\u001b[34mswanlab\u001b[0m\u001b[0m: 🚀 View run at \u001b[34m\u001b[4mhttps://api.swanlab.cn/@Harrison/Gerative-Model-Foundamental-Knowledge/runs/zukbpyngi0de1nhnntwnc\u001b[0m\u001b[0m\n",
      "                                                                                                    \r"
     ]
    }
   ],
   "source": [
    "swanlab.finish()"
   ]
  }
 ],
 "metadata": {
  "kernelspec": {
   "display_name": "Python 3 (ipykernel)",
   "language": "python",
   "name": "python3"
  },
  "language_info": {
   "codemirror_mode": {
    "name": "ipython",
    "version": 3
   },
   "file_extension": ".py",
   "mimetype": "text/x-python",
   "name": "python",
   "nbconvert_exporter": "python",
   "pygments_lexer": "ipython3",
   "version": "3.10.0"
  },
  "toc": {
   "base_numbering": 1,
   "nav_menu": {},
   "number_sections": true,
   "sideBar": true,
   "skip_h1_title": false,
   "title_cell": "Table of Contents",
   "title_sidebar": "Contents",
   "toc_cell": false,
   "toc_position": {},
   "toc_section_display": true,
   "toc_window_display": false
  }
 },
 "nbformat": 4,
 "nbformat_minor": 5
}
